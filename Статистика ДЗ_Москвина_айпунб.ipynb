{
 "cells": [
  {
   "cell_type": "code",
   "execution_count": 95,
   "metadata": {},
   "outputs": [],
   "source": [
    "import pandas as pd \n",
    "import numpy as np\n",
    "import scipy.stats as sts\n",
    "\n",
    "import matplotlib.pyplot as plt\n",
    "import seaborn as sns\n",
    "from tqdm import tqdm\n",
    "import warnings\n",
    "warnings.filterwarnings(\"ignore\")\n",
    "import itertools\n",
    "\n",
    "# import more_itertools as mit"
   ]
  },
  {
   "cell_type": "code",
   "execution_count": 3,
   "metadata": {},
   "outputs": [],
   "source": [
    "sns.set_theme(style=\"whitegrid\", palette=\"muted\")\n",
    "plt.rcParams['figure.figsize'] = (8, 4)"
   ]
  },
  {
   "cell_type": "code",
   "execution_count": 56,
   "metadata": {},
   "outputs": [],
   "source": [
    "num=np.array(range(1000)).astype(float)\n",
    "factorial=np.zeros(1000).astype(float)\n",
    "factorial[0]=1.0\n",
    "for i in range(1,len(num)):\n",
    "    factorial[i]=factorial[i-1]*num[i]\n",
    "    \n",
    "def factorial_f(n):\n",
    "    return factorial[int(n)]\n",
    "\n",
    "def binom(n,k):\n",
    "    return factorial_f(n)/(factorial_f(n-k)*factorial_f(k))"
   ]
  },
  {
   "cell_type": "markdown",
   "metadata": {},
   "source": [
    "# Задача 1"
   ]
  },
  {
   "cell_type": "markdown",
   "metadata": {},
   "source": [
    "### Немного математики:\n",
    "\n",
    "Перед тем, как кодить, необходимо найти по возможности руками вероятности:\n",
    "    \n",
    "Обозначим $P(n,k)$ - вероятность того, первый раз приехал повторный таксист на шаге $k$ при условии того, что всего $n$ таксистов.\n",
    "\n",
    "Очевидно, что $k\\in [2,n+1]$ так как со второй попытки может приехать тот же самый, а если всего $n$, то на $n+1$ приедет знакомый по принципу дирихле, если до этого все были разные.\n",
    "\n",
    "$|\\Omega|=n^k$ - всего вариантов как могут приехать таксисты. Дальше среди первых $k-1$ нет вовторений, то есть выбрать их $C_n^{k-1}$ и расстивить потом еще $(k-1)!$, и дальше может приехать один из $k-1$ для повторения.\n",
    "\n",
    "Итого $P(n,k)=\\frac{C_n^{k-1}(k-1)!(k-1)}{n^k}$, будем использовать это для дальнейших подсчетов (чтобы посчитать мат ожидание, нужно просто перемножить вектор из $n$ вероятностей на вектор $k=[2,...,n+1]$ и сложить все, при условии, что все вероятности преподсчиатны это не сложная операция)"
   ]
  },
  {
   "cell_type": "code",
   "execution_count": 142,
   "metadata": {},
   "outputs": [],
   "source": [
    "# a)\n",
    "def probab_p(n,k):\n",
    "#     print(n,n-k+1,factorial_f(n-k+1)*n**k)\n",
    "    answ=(k-1)/n**k\n",
    "    for i in range(k-2+1):\n",
    "        answ*=(n-i)\n",
    "    return answ #, np.math.factorial(n)*(k-1)/(np.math.factorial(n-k+1)*n**k)\n",
    "    \n",
    "#     return np.math.factorial(n)*(k-1)/(np.math.factorial(n-k+1)*n**k)\n",
    "\n",
    "probab_new = np.vectorize(probab_p)"
   ]
  },
  {
   "cell_type": "code",
   "execution_count": 143,
   "metadata": {},
   "outputs": [],
   "source": [
    "x=np.array(range(9,1000))\n",
    "y=probab_new(x,10)"
   ]
  },
  {
   "cell_type": "code",
   "execution_count": 61,
   "metadata": {},
   "outputs": [
    {
     "data": {
      "text/plain": [
       "Text(0, 0.5, 'Правдоподобие')"
      ]
     },
     "execution_count": 61,
     "metadata": {},
     "output_type": "execute_result"
    },
    {
     "data": {
      "image/png": "[encoded data removed]",
      "text/plain": [
       "<Figure size 576x288 with 1 Axes>"
      ]
     },
     "metadata": {},
     "output_type": "display_data"
    }
   ],
   "source": [
    "plt.plot(x,y,color='blue')\n",
    "plt.title(\"Зависимость правдоподобия от n\")\n",
    "plt.xlabel(\"n\")\n",
    "plt.ylabel(\"Правдоподобие\")"
   ]
  },
  {
   "cell_type": "code",
   "execution_count": 62,
   "metadata": {},
   "outputs": [
    {
     "name": "stdout",
     "output_type": "stream",
     "text": [
      "42 : n при котором веростность наблюдать данную ситуацию максимальная\n"
     ]
    }
   ],
   "source": [
    "print(np.argmax(y)+9, ': n при котором веростность наблюдать данную ситуацию максимальная')"
   ]
  },
  {
   "cell_type": "code",
   "execution_count": 59,
   "metadata": {},
   "outputs": [],
   "source": [
    "#б)"
   ]
  },
  {
   "cell_type": "code",
   "execution_count": 63,
   "metadata": {},
   "outputs": [
    {
     "name": "stderr",
     "output_type": "stream",
     "text": [
      "100%|██████████| 9999/9999 [01:08<00:00, 145.03it/s] \n"
     ]
    }
   ],
   "source": [
    "# считаем матрицу вероятностей исходя из зависимостей P(n,k-1) и P(n,k)\n",
    "n_all=10000\n",
    "k_all=n_all+1\n",
    "probas_matrics=np.zeros((n_all,k_all))\n",
    "for n in tqdm(list(range(1,n_all))):\n",
    "    probas_matrics[n,2]=probab_new(n,2)\n",
    "    for k in range(3,n+2):\n",
    "        probas_matrics[n,k]=probas_matrics[n,k-1]*(n-k+2)*(k-1)/((k-2)*n)"
   ]
  },
  {
   "cell_type": "code",
   "execution_count": 64,
   "metadata": {},
   "outputs": [],
   "source": [
    "def math_expect(n):\n",
    "    init=np.array(range(1,n+2))\n",
    "    \n",
    "    return np.sum(init*probas_matrics[n,1:n+2])\n",
    "    \n",
    "#     return np.sum(init*probab_new(n,init))\n",
    "\n",
    "math_expect_sp = np.vectorize(math_expect)"
   ]
  },
  {
   "cell_type": "code",
   "execution_count": 162,
   "metadata": {},
   "outputs": [],
   "source": [
    "x=np.array(range(1,1000))\n",
    "y_exp=math_expect_sp(x)"
   ]
  },
  {
   "cell_type": "code",
   "execution_count": 163,
   "metadata": {},
   "outputs": [
    {
     "data": {
      "text/plain": [
       "Text(0, 0.5, 'Математического ожидания шага первой повторной встречи')"
      ]
     },
     "execution_count": 163,
     "metadata": {},
     "output_type": "execute_result"
    },
    {
     "data": {
      "image/png": "[encoded data removed]",
      "text/plain": [
       "<Figure size 576x288 with 1 Axes>"
      ]
     },
     "metadata": {},
     "output_type": "display_data"
    }
   ],
   "source": [
    "plt.plot(x,y_exp,color='blue')\n",
    "plt.title(\"Зависимость математического ожидания шага первой повторной встречи от n\")\n",
    "plt.xlabel(\"n\")\n",
    "plt.ylabel(\"Математического ожидания шага первой повторной встречи\")"
   ]
  },
  {
   "cell_type": "code",
   "execution_count": 164,
   "metadata": {},
   "outputs": [
    {
     "name": "stdout",
     "output_type": "stream",
     "text": [
      "55 : n при котором веростность наблюдать данную ситуацию максимальная\n"
     ]
    }
   ],
   "source": [
    "print(np.argmin(np.abs(y_exp-10))+1, ': n при котором веростность наблюдать данную ситуацию максимальная')"
   ]
  },
  {
   "cell_type": "code",
   "execution_count": 165,
   "metadata": {},
   "outputs": [],
   "source": [
    "#в)\n",
    "n=100\n",
    "def simulate(n,size):\n",
    "    np.random.seed(1000)\n",
    "    \n",
    "    arr=np.random.choice(np.array(range(1,n+2)), size=(1, size), replace=True, p =probas_matrics[n,1:n+2]  )\n",
    "    \n",
    "    return arr\n",
    "    "
   ]
  },
  {
   "cell_type": "code",
   "execution_count": 166,
   "metadata": {},
   "outputs": [],
   "source": [
    "# оцениваем с помощью двух методов\n",
    "def mle_estimate(k):\n",
    "    answer=np.zeros(len(k))\n",
    "    \n",
    "    for i in tqdm(range(len(k))):\n",
    "        \n",
    "        answer[i]=int(np.argmax(probas_matrics[:,k[i]])+(k[i]-1))\n",
    "        \n",
    "    return answer.astype(int)\n",
    "\n",
    "def moment_estimate(k):\n",
    "    answer=np.zeros(len(k))\n",
    "    for i in tqdm(range(len(k))):\n",
    "        answer[i]=np.argmin(np.abs(y_exp-k[i]))+1\n",
    "    return answer\n"
   ]
  },
  {
   "cell_type": "code",
   "execution_count": 167,
   "metadata": {},
   "outputs": [],
   "source": [
    "n=100\n",
    "sim=simulate(n,10000)[0]"
   ]
  },
  {
   "cell_type": "code",
   "execution_count": 168,
   "metadata": {
    "scrolled": true
   },
   "outputs": [
    {
     "data": {
      "text/plain": [
       "Text(0, 0.5, 'Количство наблюдений')"
      ]
     },
     "execution_count": 168,
     "metadata": {},
     "output_type": "execute_result"
    },
    {
     "data": {
      "image/png": "[encoded data removed]",
      "text/plain": [
       "<Figure size 576x288 with 1 Axes>"
      ]
     },
     "metadata": {},
     "output_type": "display_data"
    }
   ],
   "source": [
    "p=plt.hist(sim)\n",
    "plt.title(\"Гистограмма первого повторения при n=100\")\n",
    "plt.xlabel(\"Первое повторение\")\n",
    "plt.ylabel(\"Количство наблюдений\")"
   ]
  },
  {
   "cell_type": "code",
   "execution_count": 169,
   "metadata": {},
   "outputs": [
    {
     "name": "stderr",
     "output_type": "stream",
     "text": [
      "100%|██████████| 10000/10000 [00:01<00:00, 5185.23it/s]\n"
     ]
    }
   ],
   "source": [
    "mle=mle_estimate(sim)"
   ]
  },
  {
   "cell_type": "code",
   "execution_count": 170,
   "metadata": {},
   "outputs": [
    {
     "name": "stdout",
     "output_type": "stream",
     "text": [
      "Смещение:  9.1499\n",
      "Дисперсия:  9899.422829989999\n",
      "Среднеквадратичная ошибка:  9983.1435\n"
     ]
    },
    {
     "data": {
      "image/png": "[encoded data removed]",
      "text/plain": [
       "<Figure size 576x288 with 1 Axes>"
      ]
     },
     "metadata": {},
     "output_type": "display_data"
    }
   ],
   "source": [
    "p=plt.hist(mle)\n",
    "plt.title(\"Гистограмма MLE оценок при n=100\")\n",
    "plt.xlabel(\"Оценка n\")\n",
    "plt.ylabel(\"Количство наблюдений\")\n",
    "\n",
    "print('Смещение: ',np.mean(mle-100))\n",
    "print('Дисперсия: ',np.std(mle)**2)\n",
    "print('Среднеквадратичная ошибка: ',np.mean((mle-100)**2))"
   ]
  },
  {
   "cell_type": "code",
   "execution_count": 171,
   "metadata": {},
   "outputs": [
    {
     "name": "stderr",
     "output_type": "stream",
     "text": [
      "100%|██████████| 10000/10000 [00:00<00:00, 75724.49it/s]\n"
     ]
    }
   ],
   "source": [
    "moment=moment_estimate(sim)"
   ]
  },
  {
   "cell_type": "code",
   "execution_count": 172,
   "metadata": {},
   "outputs": [
    {
     "name": "stdout",
     "output_type": "stream",
     "text": [
      "Смещение:  26.3144\n",
      "Дисперсия:  14430.338152639999\n",
      "Среднеквадратичная ошибка:  15122.7858\n"
     ]
    },
    {
     "data": {
      "image/png": "[encoded data removed]",
      "text/plain": [
       "<Figure size 576x288 with 1 Axes>"
      ]
     },
     "metadata": {},
     "output_type": "display_data"
    }
   ],
   "source": [
    "p=plt.hist(moment)\n",
    "plt.title(\"Гистограмма оценки методом моментов при n=100\")\n",
    "plt.xlabel(\"Оценка n\")\n",
    "plt.ylabel(\"Количство наблюдений\")\n",
    "\n",
    "print('Смещение: ',np.mean(moment-100))\n",
    "print('Дисперсия: ',np.std(moment)**2)\n",
    "print('Среднеквадратичная ошибка: ',np.mean((moment-100)**2))"
   ]
  },
  {
   "cell_type": "markdown",
   "metadata": {},
   "source": [
    "# Задача 2"
   ]
  },
  {
   "cell_type": "markdown",
   "metadata": {},
   "source": [
    "### Немного математики:\n",
    "\n",
    "Перед тем, как кодить, необходимо найти по возможности руками вероятности:\n",
    "    \n",
    "Обозначим $P(n,k)$ - вероятность того, среди первых $n$ таксистов приехало $k$ разных: $k\\in[1,...,10]$.\n",
    "\n",
    "$|\\Omega|=n^10$, дальше нужно выбрать $k$ таксистов, который встретятся из $n \\rightarrow C_n^{k}$ и дальше нужно найти количество способов расставить $k$ чисел по 10 местам, так чтобы каждого было минимум по 1. \n",
    "\n",
    "Пусть мы нашли частоты все $k$ чисел ($n_1,...,n_k$), тогда как известно расставить их на 10 мест можно $\\frac{10!}{n_1!...n_k!}$ способавим. Осталось для каждого способа разбиения 10 чисел на $k$ не пустых корзин посчитать это количество (это делает функция fill_razmesh, которая для каждой комбинации считает расстановки и все складывает). Это нужно посчитать один раз так как от $n$ данное количество не зависит. (Обзовем это $M(k)$)\n",
    "\n",
    "Итого вероятность $P(n,k)=\\frac{C_n^k M(k)}{n^10}$"
   ]
  },
  {
   "cell_type": "code",
   "execution_count": 100,
   "metadata": {},
   "outputs": [],
   "source": [
    "def razmesh(arr):\n",
    "    answ=factorial_f(10)\n",
    "    for i in arr:\n",
    "        answ/=factorial_f(i)\n",
    "    return answ\n",
    "\n",
    "def neclusters(l, K):\n",
    "    for splits in itertools.combinations(range(len(l) - 1), K - 1):\n",
    "        yield np.split(l, 1 + np.array(splits))\n",
    "        \n",
    "def all_combination_k_10(k):\n",
    "    res=neclusters(list(range(1,11)),k)\n",
    "    cur=0\n",
    "    for i in res:\n",
    "        cur+=1\n",
    "    res=neclusters(list(range(1,11)),k)\n",
    "    arr=np.zeros((cur,k))\n",
    "    cur_1=0\n",
    "    cur_2=0\n",
    "    for i in res:\n",
    "        for j in i:\n",
    "    #         print(j)\n",
    "            arr[cur_1,cur_2]=len(j)\n",
    "            cur_2+=1\n",
    "        cur_2=0\n",
    "        cur_1+=1\n",
    "        \n",
    "    return arr\n",
    "\n",
    "def fill_razmesh(k):\n",
    "    arr=all_combination_k_10(k)\n",
    "    answ=0\n",
    "    for i in range(len(arr)):\n",
    "        answ+=razmesh(arr[i])\n",
    "        \n",
    "    return answ"
   ]
  },
  {
   "cell_type": "code",
   "execution_count": 101,
   "metadata": {},
   "outputs": [],
   "source": [
    "razmesh_k_10=list([0]*11)\n",
    "for k in range(1,11):\n",
    "    razmesh_k_10[k]=fill_razmesh(k) #*binom(10,k) /(10**10)"
   ]
  },
  {
   "cell_type": "code",
   "execution_count": 102,
   "metadata": {},
   "outputs": [],
   "source": [
    "def propap_n_k(n,k):\n",
    "    return razmesh_k_10[k]*binom(n,k)/(n**10)\n",
    "\n",
    "propap_n_k_vec = np.vectorize(propap_n_k)\n",
    "\n",
    "def math_exp_10(n):\n",
    "    init=np.array(range(1,11))\n",
    "    \n",
    "    return np.sum(init*propap_n_k_vec(n,init))\n",
    "\n",
    "math_exp_10_vec = np.vectorize(math_exp_10)"
   ]
  },
  {
   "cell_type": "code",
   "execution_count": 173,
   "metadata": {},
   "outputs": [
    {
     "data": {
      "text/plain": [
       "1.0"
      ]
     },
     "execution_count": 173,
     "metadata": {},
     "output_type": "execute_result"
    }
   ],
   "source": [
    "# проверяем, что вероятность суммируется в 1\n",
    "np.sum(propap_n_k_vec(10,np.array(range(1,11))))"
   ]
  },
  {
   "cell_type": "code",
   "execution_count": 174,
   "metadata": {},
   "outputs": [],
   "source": [
    "x=np.array(range(1,100))\n",
    "y=propap_n_k_vec(x,6)"
   ]
  },
  {
   "cell_type": "code",
   "execution_count": 175,
   "metadata": {},
   "outputs": [
    {
     "data": {
      "text/plain": [
       "Text(0, 0.5, 'Правдоподобие')"
      ]
     },
     "execution_count": 175,
     "metadata": {},
     "output_type": "execute_result"
    },
    {
     "data": {
      "image/png": "[encoded data removed]",
      "text/plain": [
       "<Figure size 576x288 with 1 Axes>"
      ]
     },
     "metadata": {},
     "output_type": "display_data"
    }
   ],
   "source": [
    "plt.plot(x,y,color='blue')\n",
    "plt.title(\"Зависимость правдоподобия от n\")\n",
    "plt.xlabel(\"n\")\n",
    "plt.ylabel(\"Правдоподобие\")"
   ]
  },
  {
   "cell_type": "code",
   "execution_count": 176,
   "metadata": {},
   "outputs": [
    {
     "name": "stdout",
     "output_type": "stream",
     "text": [
      "8 : n при котором веростность наблюдать данную ситуацию максимальная\n"
     ]
    }
   ],
   "source": [
    "print(np.argmax(y)+1, ': n при котором веростность наблюдать данную ситуацию максимальная')"
   ]
  },
  {
   "cell_type": "code",
   "execution_count": 177,
   "metadata": {},
   "outputs": [],
   "source": [
    "x=np.array(range(1,101))\n",
    "y_exp=math_exp_10_vec(x)"
   ]
  },
  {
   "cell_type": "code",
   "execution_count": 178,
   "metadata": {},
   "outputs": [
    {
     "data": {
      "text/plain": [
       "Text(0, 0.5, 'Математическое ожидание количества разных имен среди первых 10')"
      ]
     },
     "execution_count": 178,
     "metadata": {},
     "output_type": "execute_result"
    },
    {
     "data": {
      "image/png": "[encoded data removed]",
      "text/plain": [
       "<Figure size 576x288 with 1 Axes>"
      ]
     },
     "metadata": {},
     "output_type": "display_data"
    }
   ],
   "source": [
    "plt.plot(x,y_exp,color='blue')\n",
    "plt.title(\"Зависимость математического ожидания количества разных имен среди первых 10 от общего количества n\")\n",
    "plt.xlabel(\"n\")\n",
    "plt.ylabel(\"Математическое ожидание количества разных имен среди первых 10\")"
   ]
  },
  {
   "cell_type": "code",
   "execution_count": 179,
   "metadata": {},
   "outputs": [
    {
     "name": "stdout",
     "output_type": "stream",
     "text": [
      "8 : n при котором веростность наблюдать данную ситуацию максимальная\n"
     ]
    }
   ],
   "source": [
    "print(np.argmin(np.abs(y_exp-6))+1, ': n при котором веростность наблюдать данную ситуацию максимальная')"
   ]
  },
  {
   "cell_type": "code",
   "execution_count": 180,
   "metadata": {},
   "outputs": [],
   "source": [
    "# ищем оценки параметра двумя способами\n",
    "def simulate_2(size):\n",
    "    np.random.seed(1000)\n",
    "    arr=np.random.choice(np.array(range(1,21)), size=(10, size), replace=True, p =np.ones(20)/20  )\n",
    "    return arr\n",
    "\n",
    "def mle_est_2(k):\n",
    "    answ=np.zeros(len(k))\n",
    "    \n",
    "    init=np.array(range(1,101))\n",
    "    \n",
    "    for i in range(len(k)):\n",
    "        prob=propap_n_k_vec(init,k[i])\n",
    "        answ[i]=np.argmax(prob)+1\n",
    "        \n",
    "    return answ\n",
    "\n",
    "def moment_est_2(k):\n",
    "#     init=np.array(range(1,101))\n",
    "#     prob=math_exp_10(init,k)\n",
    "    answ=np.zeros(len(k))\n",
    "    \n",
    "    for i in range(len(k)):\n",
    "\n",
    "        answ[i]=np.argmin(np.abs(y_exp-k[i]))+1\n",
    "        \n",
    "    return answ\n"
   ]
  },
  {
   "cell_type": "code",
   "execution_count": 183,
   "metadata": {},
   "outputs": [
    {
     "name": "stderr",
     "output_type": "stream",
     "text": [
      "100%|██████████| 10000/10000 [00:00<00:00, 41603.39it/s]\n"
     ]
    }
   ],
   "source": [
    "count=np.zeros(11)\n",
    "arr_unique=np.zeros(10**4)\n",
    "arr=simulate_2(10**4).T\n",
    "for i in tqdm(range(10**4)):\n",
    "    arr_unique[i]=len(np.unique(arr[i]))\n",
    "    count[len(np.unique(arr[i]))]+=1"
   ]
  },
  {
   "cell_type": "code",
   "execution_count": 186,
   "metadata": {},
   "outputs": [
    {
     "data": {
      "text/plain": [
       "(array([5.539e+03, 2.443e+03, 1.183e+03, 4.370e+02, 2.310e+02, 1.040e+02,\n",
       "        3.100e+01, 2.000e+01, 8.000e+00, 4.000e+00]),\n",
       " array([  1. , 100.8, 200.6, 300.4, 400.2, 500. , 599.8, 699.6, 799.4,\n",
       "        899.2, 999. ]),\n",
       " <BarContainer object of 10 artists>)"
      ]
     },
     "execution_count": 186,
     "metadata": {},
     "output_type": "execute_result"
    }
   ],
   "source": [
    "p"
   ]
  },
  {
   "cell_type": "code",
   "execution_count": 191,
   "metadata": {},
   "outputs": [
    {
     "data": {
      "text/plain": [
       "Text(0, 0.5, 'Математическое ожидание количества разных имен среди первых 10')"
      ]
     },
     "execution_count": 191,
     "metadata": {},
     "output_type": "execute_result"
    },
    {
     "data": {
      "image/png": "[encoded data removed]",
      "text/plain": [
       "<Figure size 576x288 with 1 Axes>"
      ]
     },
     "metadata": {},
     "output_type": "display_data"
    }
   ],
   "source": [
    "p=plt.hist(arr_unique,bins=7)\n",
    "plt.title(\"Гистограмма количесто разных имен среди 10 приездов при n=20 \")\n",
    "plt.xlabel(\"Количество разных имен среди 10\")\n",
    "plt.ylabel(\"Количество наблюдений\")"
   ]
  },
  {
   "cell_type": "code",
   "execution_count": 192,
   "metadata": {},
   "outputs": [],
   "source": [
    "mle_2=mle_est_2(arr_unique.astype(int))"
   ]
  },
  {
   "cell_type": "code",
   "execution_count": 195,
   "metadata": {},
   "outputs": [
    {
     "name": "stdout",
     "output_type": "stream",
     "text": [
      "Смещение:  8.5042\n",
      "Дисперсия:  521.7311823599999\n",
      "Среднеквадратичная ошибка:  594.0526\n"
     ]
    },
    {
     "data": {
      "image/png": "[encoded data removed]",
      "text/plain": [
       "<Figure size 576x288 with 1 Axes>"
      ]
     },
     "metadata": {},
     "output_type": "display_data"
    }
   ],
   "source": [
    "p=plt.hist(mle_2)\n",
    "plt.title(\"Гистограмма оценки n с помощью MLE\")\n",
    "plt.xlabel(\"Оценка n\")\n",
    "plt.ylabel(\"Количество наблюдений\")\n",
    "\n",
    "print('Смещение: ',np.mean(mle_2-20))\n",
    "print('Дисперсия: ',np.std(mle_2)**2)\n",
    "print('Среднеквадратичная ошибка: ',np.mean((mle_2-20)**2))"
   ]
  },
  {
   "cell_type": "code",
   "execution_count": 196,
   "metadata": {},
   "outputs": [],
   "source": [
    "moment_2=moment_est_2(arr_unique.astype(int))"
   ]
  },
  {
   "cell_type": "code",
   "execution_count": 197,
   "metadata": {},
   "outputs": [
    {
     "name": "stdout",
     "output_type": "stream",
     "text": [
      "Смещение:  8.8756\n",
      "Дисперсия:  514.6949246400001\n",
      "Среднеквадратичная ошибка:  593.4712\n"
     ]
    },
    {
     "data": {
      "image/png": "[encoded data removed]",
      "text/plain": [
       "<Figure size 576x288 with 1 Axes>"
      ]
     },
     "metadata": {},
     "output_type": "display_data"
    }
   ],
   "source": [
    "p=plt.hist(moment_2)\n",
    "plt.title(\"Гистограмма оценки n с помощью метода моментов\")\n",
    "plt.xlabel(\"Оценка n\")\n",
    "plt.ylabel(\"Количество наблюдений\")\n",
    "\n",
    "print('Смещение: ',np.mean(moment_2-20))\n",
    "print('Дисперсия: ',np.std(moment_2)**2)\n",
    "print('Среднеквадратичная ошибка: ',np.mean((moment_2-20)**2))"
   ]
  },
  {
   "cell_type": "markdown",
   "metadata": {},
   "source": [
    "# Задача 3"
   ]
  },
  {
   "cell_type": "code",
   "execution_count": 199,
   "metadata": {},
   "outputs": [],
   "source": [
    "# асимптотическая оценка\n",
    "def asyptotic(sample, I):\n",
    "    mean=np.mean(sample)\n",
    "    std=np.std(sample)\n",
    "    \n",
    "    return mean+sts.norm.isf(1-(1-I)/2)*std/np.sqrt(len(sample)), mean+sts.norm.isf((1-I)/2)*std/np.sqrt(len(sample))\n",
    "\n",
    "# получение бутстрэповской выборки (функция с семинара)\n",
    "def get_bootstrap_sample(x, B_sample=1):\n",
    "    N = x.size \n",
    "    np.random.seed(1000)\n",
    "    \n",
    "    sample = np.random.choice(x, size=(N, B_sample), replace=True)\n",
    "    \n",
    "    if B_sample == 1:\n",
    "        sample = sample.T[0]\n",
    "    return sample\n",
    "\n",
    "# получение оценки с помощью наивного бутстрэпа\n",
    "def bootstrup(sample, I,m):\n",
    "\n",
    "    sample_all=get_bootstrap_sample(sample,m)\n",
    "    \n",
    "    boot_mean=np.mean(sample_all,axis=0)\n",
    "    \n",
    "    return np.quantile(boot_mean, (1-I)/2), np.quantile(boot_mean, 1-(1-I)/2)\n",
    "\n",
    "# получение оценки с помощью бутстрэпа t статистики\n",
    "def t_bootstrup(sample,alpha=0.05):\n",
    "    x_boot=get_bootstrap_sample(sample,10000)\n",
    "    \n",
    "    theta_hat = np.mean(sample)\n",
    "    std_hat = np.std(sample)\n",
    "\n",
    "    x_boot_t = np.mean(x_boot - theta_hat, axis=0)\n",
    "    x_boot_t = x_boot_t/np.std(x_boot, axis=0)\n",
    "\n",
    "    left = theta_hat - np.quantile(x_boot_t, 1-alpha/2)*std_hat\n",
    "    right = theta_hat - np.quantile(x_boot_t, alpha/2)*std_hat\n",
    "    return left, right\n"
   ]
  },
  {
   "cell_type": "code",
   "execution_count": 5,
   "metadata": {},
   "outputs": [],
   "source": [
    "def func(x):\n",
    "    return np.mean(x)"
   ]
  },
  {
   "cell_type": "code",
   "execution_count": 6,
   "metadata": {},
   "outputs": [],
   "source": [
    "# а)\n",
    "exp=sts.expon(scale=1)"
   ]
  },
  {
   "cell_type": "code",
   "execution_count": 7,
   "metadata": {
    "scrolled": true
   },
   "outputs": [
    {
     "name": "stderr",
     "output_type": "stream",
     "text": [
      "100%|██████████| 10000/10000 [00:06<00:00, 1509.50it/s]\n"
     ]
    }
   ],
   "source": [
    "# вероятность того, что асимптотический нормальный интервал накрывает истинное мат ожидание\n",
    "k=0\n",
    "\n",
    "for i in tqdm(range(10000)):\n",
    "    np.random.seed(37*i+10)\n",
    "    \n",
    "    sample=exp.rvs(size=20)\n",
    "    l,r=asyptotic(sample, 0.95)\n",
    "#     print(l,r)\n",
    "    if l<=1 and r>=1:\n",
    "        k+=1\n",
    "        \n",
    "accuracy=k/10000"
   ]
  },
  {
   "cell_type": "code",
   "execution_count": 8,
   "metadata": {},
   "outputs": [
    {
     "name": "stdout",
     "output_type": "stream",
     "text": [
      "С помощью классического асимптотического нормального интервала точность: 0.902\n"
     ]
    }
   ],
   "source": [
    "print('С помощью классического асимптотического нормального интервала точность:',accuracy)"
   ]
  },
  {
   "cell_type": "code",
   "execution_count": 9,
   "metadata": {},
   "outputs": [
    {
     "name": "stderr",
     "output_type": "stream",
     "text": [
      "100%|██████████| 10000/10000 [00:52<00:00, 192.22it/s]\n"
     ]
    }
   ],
   "source": [
    "# вероятность того, что наивный бутстрэп накрывает истинное мат ожидание\n",
    "k=0\n",
    "\n",
    "for i in tqdm(range(10000)):\n",
    "    np.random.seed(37*i+10)\n",
    "    \n",
    "    sample=exp.rvs(size=20)\n",
    "    l,r=bootstrup(sample, 0.95, 10000)\n",
    "#     print(l,r)\n",
    "    if l<=1 and r>=1:\n",
    "        k+=1\n",
    "        \n",
    "accuracy_2=k/10000"
   ]
  },
  {
   "cell_type": "code",
   "execution_count": 10,
   "metadata": {},
   "outputs": [
    {
     "name": "stdout",
     "output_type": "stream",
     "text": [
      "С помощью наивного бутсрапа точность: 0.9079\n"
     ]
    }
   ],
   "source": [
    "print('С помощью наивного бутсрапа точность:',accuracy_2)"
   ]
  },
  {
   "cell_type": "code",
   "execution_count": 12,
   "metadata": {},
   "outputs": [
    {
     "name": "stderr",
     "output_type": "stream",
     "text": [
      "100%|██████████| 10000/10000 [01:08<00:00, 145.30it/s]\n"
     ]
    }
   ],
   "source": [
    "# вероятность того, что бутстрэп t-статистики накрывает истинное мат ожидание\n",
    "k=0\n",
    "\n",
    "for i in tqdm(range(10000)):\n",
    "    np.random.seed(37*i+10)\n",
    "    \n",
    "    sample=exp.rvs(size=20)\n",
    "    l,r=t_bootstrup(sample,0.05) #t_bootstrup(sample, 0.95, 1000)\n",
    "#     print(l,r)\n",
    "    if l<=1 and r>=1:\n",
    "        k+=1\n",
    "        \n",
    "accuracy_3=k/10000"
   ]
  },
  {
   "cell_type": "code",
   "execution_count": 13,
   "metadata": {},
   "outputs": [
    {
     "name": "stdout",
     "output_type": "stream",
     "text": [
      "С помощью  бутстрэпа t-статистики точность: 0.9507\n"
     ]
    }
   ],
   "source": [
    "print('С помощью  бутстрэпа t-статистики точность:',accuracy_3)"
   ]
  },
  {
   "cell_type": "code",
   "execution_count": 17,
   "metadata": {},
   "outputs": [
    {
     "name": "stdout",
     "output_type": "stream",
     "text": [
      "0.0\n"
     ]
    }
   ],
   "source": [
    "# b)\n",
    "t=sts.t(df=3)\n",
    "print(t.moment(1))"
   ]
  },
  {
   "cell_type": "code",
   "execution_count": 18,
   "metadata": {},
   "outputs": [
    {
     "name": "stderr",
     "output_type": "stream",
     "text": [
      "100%|██████████| 10000/10000 [00:06<00:00, 1634.27it/s]\n"
     ]
    }
   ],
   "source": [
    "# вероятность того, что асимптотический нормальный интервал накрывает истинное мат ожидание\n",
    "k=0\n",
    "\n",
    "for i in tqdm(range(10000)):\n",
    "    np.random.seed(37*i+10)\n",
    "    \n",
    "    sample=t.rvs(size=20)\n",
    "    l,r=asyptotic(sample, 0.95)\n",
    "#     print(l,r)\n",
    "    if l<=0 and r>=0:\n",
    "        k+=1\n",
    "        \n",
    "accuracy=k/10000"
   ]
  },
  {
   "cell_type": "code",
   "execution_count": 19,
   "metadata": {},
   "outputs": [
    {
     "name": "stdout",
     "output_type": "stream",
     "text": [
      "С помощью классического асимптотического нормального интервала точность: 0.9394\n"
     ]
    }
   ],
   "source": [
    "print('С помощью классического асимптотического нормального интервала точность:',accuracy)"
   ]
  },
  {
   "cell_type": "code",
   "execution_count": 20,
   "metadata": {},
   "outputs": [
    {
     "name": "stderr",
     "output_type": "stream",
     "text": [
      "100%|██████████| 10000/10000 [00:56<00:00, 177.32it/s]\n"
     ]
    }
   ],
   "source": [
    "# вероятность того, что наивный бутстрэп накрывает истинное мат ожидание\n",
    "k=0\n",
    "\n",
    "for i in tqdm(range(10000)):\n",
    "    np.random.seed(37*i+10)\n",
    "    \n",
    "    sample=t.rvs(size=20)\n",
    "    l,r=bootstrup(sample, 0.95, 10000)\n",
    "#     print(l,r)\n",
    "    if l<=0 and r>=0:\n",
    "        k+=1\n",
    "        \n",
    "accuracy_2=k/10000"
   ]
  },
  {
   "cell_type": "code",
   "execution_count": 21,
   "metadata": {},
   "outputs": [
    {
     "name": "stdout",
     "output_type": "stream",
     "text": [
      "С помощью наивного бутсрапа точность: 0.9226\n"
     ]
    }
   ],
   "source": [
    "print('С помощью наивного бутсрапа точность:',accuracy_2)"
   ]
  },
  {
   "cell_type": "code",
   "execution_count": 22,
   "metadata": {},
   "outputs": [
    {
     "name": "stderr",
     "output_type": "stream",
     "text": [
      "100%|██████████| 10000/10000 [01:10<00:00, 141.25it/s]\n"
     ]
    }
   ],
   "source": [
    "# вероятность того, что бутстрэп t-статистики накрывает истинное мат ожидание\n",
    "k=0\n",
    "\n",
    "for i in tqdm(range(10000)):\n",
    "    np.random.seed(37*i+10)\n",
    "    \n",
    "    sample=t.rvs(size=20)\n",
    "    l,r=t_bootstrup(sample,0.05) #t_bootstrup(sample, 0.95, 1000)\n",
    "#     print(l,r)\n",
    "    if l<=0 and r>=0:\n",
    "        k+=1\n",
    "        \n",
    "accuracy_3=k/10000"
   ]
  },
  {
   "cell_type": "code",
   "execution_count": 23,
   "metadata": {},
   "outputs": [
    {
     "name": "stdout",
     "output_type": "stream",
     "text": [
      "С помощью  бутстрэпа t-статистики точность: 0.9274\n"
     ]
    }
   ],
   "source": [
    "print('С помощью  бутстрэпа t-статистики точность:',accuracy_3)"
   ]
  },
  {
   "cell_type": "markdown",
   "metadata": {},
   "source": [
    "# c) вывод:\n",
    "\n",
    "a) В первом случае как можно видеть выше, асимптотический доверительный интвервал и наивный бутстрэп оказываются существенно хуже, чем заявленная точность так как экспоненциальное распределение не является симметричным и очень сдвино к нулю с наличием правого хвоста и это сильно смещает интервал, построенный с помощью первых двух методов. Метод бустрэпа t-статистики, как мы это обсуждали, борется с этой проблемой и результат получает лучше.\n",
    "\n",
    "б) Во втором случае распределение Стьюдента с тремя степенями свободы является симметричным и очень близко к нормальному. Из-за этого первый метод, который предполагает явный вид распредлеения наблдений оказывается более точным, чем два бутстрэповских метода, которые не делю никаких предположений о природе данных, из-за чего их точность оказывается ниже первого метода и ниже заявленной точность, но при увеличении выборки они будут работать тоже хорошо."
   ]
  },
  {
   "cell_type": "markdown",
   "metadata": {},
   "source": [
    "# Задача 4"
   ]
  },
  {
   "cell_type": "code",
   "execution_count": 200,
   "metadata": {},
   "outputs": [],
   "source": [
    "# читаем файл с оценками\n",
    "df=pd.read_excel('marks.xlsx')"
   ]
  },
  {
   "cell_type": "code",
   "execution_count": 201,
   "metadata": {},
   "outputs": [],
   "source": [
    "col=['lastnames']\n",
    "for i in range(30):\n",
    "    col.append(f'{i}')\n",
    "df.columns=col"
   ]
  },
  {
   "cell_type": "code",
   "execution_count": 202,
   "metadata": {},
   "outputs": [],
   "source": [
    "res=np.zeros(df.shape[0])\n",
    "for i in range(30):\n",
    "    res=res+np.array(df[f'{i}'])\n",
    "df['result']=res"
   ]
  },
  {
   "cell_type": "code",
   "execution_count": 203,
   "metadata": {},
   "outputs": [],
   "source": [
    "df=df[['lastnames','result']]"
   ]
  },
  {
   "cell_type": "code",
   "execution_count": 204,
   "metadata": {},
   "outputs": [
    {
     "data": {
      "text/html": [
       "<div>\n",
       "<style scoped>\n",
       "    .dataframe tbody tr th:only-of-type {\n",
       "        vertical-align: middle;\n",
       "    }\n",
       "\n",
       "    .dataframe tbody tr th {\n",
       "        vertical-align: top;\n",
       "    }\n",
       "\n",
       "    .dataframe thead th {\n",
       "        text-align: right;\n",
       "    }\n",
       "</style>\n",
       "<table border=\"1\" class=\"dataframe\">\n",
       "  <thead>\n",
       "    <tr style=\"text-align: right;\">\n",
       "      <th></th>\n",
       "      <th>lastnames</th>\n",
       "      <th>result</th>\n",
       "    </tr>\n",
       "  </thead>\n",
       "  <tbody>\n",
       "    <tr>\n",
       "      <th>316</th>\n",
       "      <td>Москвина</td>\n",
       "      <td>19.0</td>\n",
       "    </tr>\n",
       "  </tbody>\n",
       "</table>\n",
       "</div>"
      ],
      "text/plain": [
       "    lastnames  result\n",
       "316  Москвина    19.0"
      ]
     },
     "execution_count": 204,
     "metadata": {},
     "output_type": "execute_result"
    }
   ],
   "source": [
    "# проверяю, что моя оценка сошлась\n",
    "df[df['lastnames']=='Москвина']"
   ]
  },
  {
   "cell_type": "code",
   "execution_count": 205,
   "metadata": {},
   "outputs": [],
   "source": [
    "# гласные буквы\n",
    "s='аеёиоуыэюя'"
   ]
  },
  {
   "cell_type": "code",
   "execution_count": 206,
   "metadata": {},
   "outputs": [],
   "source": [
    "def func(x):\n",
    "    if x[0] in s.upper():\n",
    "        return '1'\n",
    "    else:\n",
    "        return '0'\n",
    "def func_len(x):\n",
    "    return len(x)"
   ]
  },
  {
   "cell_type": "code",
   "execution_count": 207,
   "metadata": {},
   "outputs": [],
   "source": [
    "df['group']=df['lastnames'].apply(func)\n",
    "df['len']=df['lastnames'].apply(func_len)"
   ]
  },
  {
   "cell_type": "code",
   "execution_count": 208,
   "metadata": {},
   "outputs": [],
   "source": [
    "x=np.array(df[df['group']=='1']['result'])\n",
    "y=np.array(df[df['group']=='0']['result'])"
   ]
  },
  {
   "cell_type": "code",
   "execution_count": 209,
   "metadata": {},
   "outputs": [],
   "source": [
    "# доверительный интервал по бутстрэповской выборке\n",
    "def stat_intervals(boot, alpha=0.05):\n",
    "    left = np.quantile(boot, alpha/2)\n",
    "    right = np.quantile(boot, 1-alpha/2)\n",
    "    return left, right"
   ]
  },
  {
   "cell_type": "code",
   "execution_count": 210,
   "metadata": {},
   "outputs": [
    {
     "data": {
      "text/plain": [
       "Ttest_indResult(statistic=-0.8525715345026459, pvalue=0.39706341598411865)"
      ]
     },
     "execution_count": 210,
     "metadata": {},
     "output_type": "execute_result"
    }
   ],
   "source": [
    "#a) Используйте тест Уэлча\n",
    "sts.ttest_ind(x, y, equal_var=False)"
   ]
  },
  {
   "cell_type": "markdown",
   "metadata": {},
   "source": [
    "### a)\n",
    "pvalue $=0.39706$\n",
    "\n",
    "Вывод: на 5% уровне значимости гипотеза о том, что ожидаемые оценки по двум группам равны не отвергается"
   ]
  },
  {
   "cell_type": "code",
   "execution_count": 213,
   "metadata": {},
   "outputs": [],
   "source": [
    "#b) Используйте наивный бутстрэп\n",
    "x_boot = get_bootstrap_sample(x, B_sample=10**4)\n",
    "x_boot = np.mean(x_boot, axis=0)\n",
    "\n",
    "y_boot = get_bootstrap_sample(y, B_sample=10**4)\n",
    "y_boot = np.mean(y_boot, axis=0)"
   ]
  },
  {
   "cell_type": "code",
   "execution_count": 221,
   "metadata": {},
   "outputs": [
    {
     "data": {
      "text/plain": [
       "(-3.5887501809234323, 1.3620675929946449)"
      ]
     },
     "execution_count": 221,
     "metadata": {},
     "output_type": "execute_result"
    }
   ],
   "source": [
    "# доверительный интервал\n",
    "stat_intervals(x_boot - y_boot,alpha=0.05)"
   ]
  },
  {
   "cell_type": "code",
   "execution_count": 215,
   "metadata": {},
   "outputs": [
    {
     "name": "stdout",
     "output_type": "stream",
     "text": [
      "9813\n"
     ]
    }
   ],
   "source": [
    "# без оптимизации ищем близкое значение по сетке\n",
    "l=np.linspace(0.38,0.41,10000)\n",
    "answer=np.zeros(len(l))\n",
    "for j in range(len(l)):\n",
    "    answer[j]=np.abs(stat_intervals(x_boot - y_boot,alpha=l[j])[1])\n",
    "print(np.argmin(answer))\n"
   ]
  },
  {
   "cell_type": "code",
   "execution_count": 216,
   "metadata": {},
   "outputs": [
    {
     "data": {
      "text/plain": [
       "(-2.110869156173107, -2.5329280649108993e-06)"
      ]
     },
     "execution_count": 216,
     "metadata": {},
     "output_type": "execute_result"
    }
   ],
   "source": [
    "# доверительный интервал, который касается 0 (pvalue)\n",
    "stat_intervals(x_boot - y_boot,alpha=l[9813])"
   ]
  },
  {
   "cell_type": "code",
   "execution_count": 217,
   "metadata": {},
   "outputs": [
    {
     "name": "stdout",
     "output_type": "stream",
     "text": [
      "pvalue:  0.4094419441944194\n"
     ]
    }
   ],
   "source": [
    "print('pvalue: ',l[9813])"
   ]
  },
  {
   "cell_type": "markdown",
   "metadata": {},
   "source": [
    "### b)\n",
    "pvalue $=0.4094$\n",
    "\n",
    "Вывод: на 5% уровне значимости гипотеза о том, что ожидаемые оценки по двум группам равны не отвергается"
   ]
  },
  {
   "cell_type": "code",
   "execution_count": 218,
   "metadata": {},
   "outputs": [],
   "source": [
    "#c) Используйте бутстрэп t-статистики\n",
    "def t_interval(alpha):\n",
    "    theta_hat = np.mean(x)-np.mean(y)\n",
    "    x_boot = get_bootstrap_sample(x, B_sample=10**4)\n",
    "    y_boot = get_bootstrap_sample(y, B_sample=10**4)\n",
    "\n",
    "    std_hat = np.sqrt(np.std(x)**2+np.std(y)**2)\n",
    "    z_boot_std=np.sqrt(np.std(x_boot,axis=0)**2 + np.std(y_boot,axis=0)**2)\n",
    "\n",
    "    z_boot_t = np.mean(x_boot, axis=0)-np.mean(y_boot, axis=0)-theta_hat\n",
    "    z_boot_t = z_boot_t/z_boot_std\n",
    "\n",
    "    left = theta_hat - np.quantile(z_boot_t, 1-alpha/2)*std_hat\n",
    "    right = theta_hat - np.quantile(z_boot_t, alpha/2)*std_hat\n",
    "    return left, right"
   ]
  },
  {
   "cell_type": "code",
   "execution_count": 222,
   "metadata": {},
   "outputs": [
    {
     "data": {
      "text/plain": [
       "(-3.6375908018252834, 1.3848785635399525)"
      ]
     },
     "execution_count": 222,
     "metadata": {},
     "output_type": "execute_result"
    }
   ],
   "source": [
    "# доверительный интервал\n",
    "t_interval(0.05)"
   ]
  },
  {
   "cell_type": "code",
   "execution_count": 225,
   "metadata": {},
   "outputs": [
    {
     "data": {
      "text/plain": [
       "(-2.223212316306225, -0.0057772735390997365)"
      ]
     },
     "execution_count": 225,
     "metadata": {},
     "output_type": "execute_result"
    }
   ],
   "source": [
    "t_interval(0.39)"
   ]
  },
  {
   "cell_type": "code",
   "execution_count": 226,
   "metadata": {},
   "outputs": [
    {
     "name": "stdout",
     "output_type": "stream",
     "text": [
      "370\n"
     ]
    }
   ],
   "source": [
    "l=np.linspace(0.385,0.39,1000)\n",
    "answer=np.zeros(len(l))\n",
    "for j in range(len(l)):\n",
    "    answer[j]=np.abs(t_interval(l[j])[1])\n",
    "print(np.argmin(answer))"
   ]
  },
  {
   "cell_type": "code",
   "execution_count": 227,
   "metadata": {},
   "outputs": [
    {
     "name": "stdout",
     "output_type": "stream",
     "text": [
      "pvalue:  0.38685185185185184\n"
     ]
    }
   ],
   "source": [
    "print('pvalue: ',l[370])"
   ]
  },
  {
   "cell_type": "markdown",
   "metadata": {},
   "source": [
    "### c)\n",
    "pvalue $=0.3868$\n",
    "\n",
    "Вывод: на 5% уровне значимости гипотеза о том, что ожидаемые оценки по двум группам равны не отвергается"
   ]
  },
  {
   "cell_type": "code",
   "execution_count": 228,
   "metadata": {},
   "outputs": [],
   "source": [
    "# определяем статистику для перестановочного теста\n",
    "def statistic(x, y, axis):\n",
    "    return np.mean(x, axis=axis) - np.mean(y, axis=axis)"
   ]
  },
  {
   "cell_type": "code",
   "execution_count": 229,
   "metadata": {},
   "outputs": [
    {
     "data": {
      "text/plain": [
       "PermutationTestResult(statistic=-1.0795339412360665, pvalue=0.38716128387161286, null_distribution=array([-1.19930525,  0.02236214,  0.74099001, ...,  2.3459256 ,\n",
       "       -1.36698509, -0.21718049]))"
      ]
     },
     "execution_count": 229,
     "metadata": {},
     "output_type": "execute_result"
    }
   ],
   "source": [
    "#d)\n",
    "sts.permutation_test((x, y), statistic, vectorized=True,n_resamples=10**4, alternative='two-sided')"
   ]
  },
  {
   "cell_type": "markdown",
   "metadata": {},
   "source": [
    "### d)\n",
    "pvalue $=0.387161$\n",
    "\n",
    "Вывод: на 5% уровне значимости гипотеза о том, что ожидаемые оценки по двум группам равны не отвергается"
   ]
  },
  {
   "cell_type": "markdown",
   "metadata": {},
   "source": [
    "# Задача 5"
   ]
  },
  {
   "cell_type": "code",
   "execution_count": 277,
   "metadata": {},
   "outputs": [],
   "source": [
    "med=np.quantile(df['result'],0.5)\n",
    "df['>med']=df['result']>med\n",
    "df['>med']=df['>med'].astype(int)"
   ]
  },
  {
   "cell_type": "code",
   "execution_count": 278,
   "metadata": {},
   "outputs": [],
   "source": [
    "def len_(x):\n",
    "    return(len(x))"
   ]
  },
  {
   "cell_type": "code",
   "execution_count": 280,
   "metadata": {},
   "outputs": [
    {
     "data": {
      "text/html": [
       "<div>\n",
       "<style scoped>\n",
       "    .dataframe tbody tr th:only-of-type {\n",
       "        vertical-align: middle;\n",
       "    }\n",
       "\n",
       "    .dataframe tbody tr th {\n",
       "        vertical-align: top;\n",
       "    }\n",
       "\n",
       "    .dataframe thead th {\n",
       "        text-align: right;\n",
       "    }\n",
       "</style>\n",
       "<table border=\"1\" class=\"dataframe\">\n",
       "  <thead>\n",
       "    <tr style=\"text-align: right;\">\n",
       "      <th></th>\n",
       "      <th></th>\n",
       "      <th>lastnames</th>\n",
       "      <th>result</th>\n",
       "      <th>len</th>\n",
       "    </tr>\n",
       "    <tr>\n",
       "      <th>group</th>\n",
       "      <th>&gt;med</th>\n",
       "      <th></th>\n",
       "      <th></th>\n",
       "      <th></th>\n",
       "    </tr>\n",
       "  </thead>\n",
       "  <tbody>\n",
       "    <tr>\n",
       "      <th rowspan=\"2\" valign=\"top\">0</th>\n",
       "      <th>0</th>\n",
       "      <td>159</td>\n",
       "      <td>159.0</td>\n",
       "      <td>159</td>\n",
       "    </tr>\n",
       "    <tr>\n",
       "      <th>1</th>\n",
       "      <td>123</td>\n",
       "      <td>123.0</td>\n",
       "      <td>123</td>\n",
       "    </tr>\n",
       "    <tr>\n",
       "      <th rowspan=\"2\" valign=\"top\">1</th>\n",
       "      <th>0</th>\n",
       "      <td>29</td>\n",
       "      <td>29.0</td>\n",
       "      <td>29</td>\n",
       "    </tr>\n",
       "    <tr>\n",
       "      <th>1</th>\n",
       "      <td>20</td>\n",
       "      <td>20.0</td>\n",
       "      <td>20</td>\n",
       "    </tr>\n",
       "  </tbody>\n",
       "</table>\n",
       "</div>"
      ],
      "text/plain": [
       "            lastnames  result  len\n",
       "group >med                        \n",
       "0     0           159   159.0  159\n",
       "      1           123   123.0  123\n",
       "1     0            29    29.0   29\n",
       "      1            20    20.0   20"
      ]
     },
     "execution_count": 280,
     "metadata": {},
     "output_type": "execute_result"
    }
   ],
   "source": [
    "df.groupby(by=['group','>med']).agg(len_)"
   ]
  },
  {
   "cell_type": "code",
   "execution_count": 281,
   "metadata": {},
   "outputs": [],
   "source": [
    "X_glas=np.array(df[df['group']==\"1\"]['>med'])\n",
    "X_soglas=np.array(df[df['group']==\"0\"]['>med'])"
   ]
  },
  {
   "cell_type": "code",
   "execution_count": 49,
   "metadata": {},
   "outputs": [
    {
     "data": {
      "text/plain": [
       "array([[ 29,  20],\n",
       "       [159, 123]])"
      ]
     },
     "execution_count": 49,
     "metadata": {},
     "output_type": "execute_result"
    }
   ],
   "source": [
    "# по оси x - результат (первое меньше либо равно медиане, второе больше)\n",
    "# по оси y - первая буква (снизу согласная, сверху гласная)\n",
    "mat=np.array([[29,20],[159,123]])\n",
    "mat"
   ]
  },
  {
   "cell_type": "markdown",
   "metadata": {},
   "source": [
    "### Метод оценки\n",
    "\n",
    "В пунктах ниже мы будем оценивать искомые параметры с помощью дельта-метода\n",
    "\n",
    "найдем классическую штуку:\n",
    "\n",
    "$(\\hat{\\rho}-\\rho)\\rightarrow N(0,\\rho(1-\\rho)\\frac{1}{n})$\n",
    "\n",
    "Тогда для функции $g=log$ будет выполнено слудующее $\\Big(\\frac{dlog(x)}{dx}=\\frac{1}{x}\\Big)$:\n",
    "\n",
    "$(log(\\hat{\\rho})-log(\\rho))\\rightarrow N(0,\\rho(1-\\rho)[\\frac{1}{\\rho^2}]\\frac{1}{n})=N(0,\\frac{1-\\rho}{\\rho}\\frac{1}{n})$\n",
    "\n",
    "$log\\Big(\\frac{\\hat{\\rho_1}}{1-\\hat{\\rho_1}}\\Big)-log\\Big(\\frac{\\rho_1}{1-\\rho_1}\\Big) \\rightarrow N(0,\\rho(1-\\rho)[\\frac{dlog\\Big(\\frac{\\rho_1}{1-\\rho_1}\\Big)}{d\\rho}]^2\\frac{1}{n})=N(0,\\frac{1}{\\rho(1-\\rho)}\\frac{1}{n})$\n",
    "\n",
    "a)$(log\\Big(\\frac{\\hat{\\rho_1}/(1-\\hat{\\rho_1})}{\\hat{\\rho_2}/(1-\\hat{\\rho_2})}\\Big)-log\\Big(\\frac{\\rho_1/(1-\\rho_1)}{\\rho_2/(1-\\rho_2)}\\Big))=$\n",
    "\n",
    "$$log\\Big(\\frac{\\hat{\\rho_1}}{1-\\hat{\\rho_1}}\\Big)-log\\Big(\\frac{\\rho_1}{1-\\rho_1}\\Big)-log\\Big(\\frac{\\hat{\\rho_2}}{1-\\hat{\\rho_2}}\\Big)+log\\Big(\\frac{\\rho_2}{1-\\rho_2}\\Big)=$$\n",
    "\n",
    "$$=N(0,\\frac{1}{\\rho_1(1-\\rho_1)}\\frac{1}{n_1}+\\frac{1}{\\rho_2(1-\\rho_2)}\\frac{1}{n_2})$$\n",
    "\n",
    "б) $(log\\Big(\\frac{\\hat{\\rho_1}}{\\hat{\\rho_2}}\\Big)-log\\Big(\\frac{\\rho_1}{\\rho_2}\\Big))=log(\\hat{\\rho_1})-log(\\rho_1)-log(\\hat{\\rho_2})+log(\\rho_2)=N(0,\\frac{1-\\rho_1}{\\rho_1}\\frac{1}{n_1}+\\frac{1-\\rho_1}{\\rho_1}\\frac{1}{n_1})$"
   ]
  },
  {
   "cell_type": "code",
   "execution_count": 265,
   "metadata": {},
   "outputs": [
    {
     "name": "stdout",
     "output_type": "stream",
     "text": [
      "0.8915054667788057\n"
     ]
    }
   ],
   "source": [
    "# а)\n",
    "pq1=mat[0,1]/(mat[0,0]) #написать хорошо для гласных шанс\n",
    "pq2=mat[1,1]/(mat[1,0]) #написать хорошо для согласных шанс\n",
    "\n",
    "p1=mat[0,1]/(mat[0,0]+mat[0,1]) #написать хорошо для гласных\n",
    "p2=mat[1,1]/(mat[1,0]+mat[1,1]) #написать хорошо для согласных\n",
    "\n",
    "pq=pq1/pq2\n",
    "print(pq)"
   ]
  },
  {
   "cell_type": "markdown",
   "metadata": {},
   "source": [
    "Как мы показали выше, для $\\hat{\\rho}=\\frac{p_1/q_1}{p_2/q_2}$ с помощью дельта метода получается, что \n",
    "\n",
    "$$Var(log(\\hat{\\rho})) = \\frac{1}{\\rho_1(1-\\rho_1)}\\frac{1}{n_1}+\\frac{1}{\\rho_2(1-\\rho_2)}\\frac{1}{n_2}$$\n",
    "\n",
    "Получается, что $I=[log(\\hat{\\rho})-1.96SE(log(\\hat{\\rho}))),log(\\hat{\\rho})+1.96SE(log(\\hat{\\rho}))]$\n",
    "\n",
    "При возведении в экспоненту, так как эта функция нонотонная получаем:\n",
    "\n",
    "$$I=[\\hat{\\rho}e^{-1.96SE(log(\\hat{\\rho})},\\hat{\\rho}e^{1.96SE(log(\\hat{\\rho})}]$$\n",
    "\n",
    "Осталось только подставить числа из нашей матрицы!"
   ]
  },
  {
   "cell_type": "code",
   "execution_count": 266,
   "metadata": {},
   "outputs": [
    {
     "name": "stdout",
     "output_type": "stream",
     "text": [
      "асимптотический 95% доверительный интервал для отношения шансов 0.5052206257280712 1.7333040533880726\n"
     ]
    }
   ],
   "source": [
    "SE_log=np.sqrt(1/(p1*(1-p1)*(mat[0,0]+mat[0,1]))  +   1/(p2*(1-p2)*(mat[1,0]+mat[1,1]))  )\n",
    "left=r*np.exp(-1.96*SE_log)\n",
    "right=r*np.exp(1.96*SE_log)\n",
    "print('асимптотический 95% доверительный интервал для отношения шансов',left,right)"
   ]
  },
  {
   "cell_type": "code",
   "execution_count": 268,
   "metadata": {},
   "outputs": [
    {
     "name": "stdout",
     "output_type": "stream",
     "text": [
      "0.9357889497262319\n"
     ]
    }
   ],
   "source": [
    "#б)\n",
    "p1=mat[0,1]/(mat[0,0]+mat[0,1]) #написать хорошо для гласных\n",
    "p2=mat[1,1]/(mat[1,0]+mat[1,1]) #написать хорошо для согласных\n",
    "r=p1/p2\n",
    "print(r)"
   ]
  },
  {
   "cell_type": "markdown",
   "metadata": {},
   "source": [
    "Как известно, для $\\hat{\\rho}=\\frac{x_1/n_1}{x_2/n_2}$ с помощью дельта метода получается, что (это мы показали выше)\n",
    "\n",
    "$$Var(log(\\hat{\\rho})) = \\frac{1}{x_1}-\\frac{1}{n_1}+\\frac{1}{x_2}-\\frac{1}{n_2}$$\n",
    "\n",
    "Получается, что $I=[log(\\hat{\\rho})-1.96SE(log(\\hat{\\rho}))),log(\\hat{\\rho})+1.96SE(log(\\hat{\\rho}))]$\n",
    "\n",
    "При возведении в экспоненту, так как эта функция нонотонная получаем:\n",
    "\n",
    "$$I=[\\hat{\\rho}e^{-1.96SE(log(\\hat{\\rho})},\\hat{\\rho}e^{1.96SE(log(\\hat{\\rho})}]$$\n",
    "\n",
    "Осталось только подставить числа из нашей матрицы!"
   ]
  },
  {
   "cell_type": "code",
   "execution_count": 269,
   "metadata": {},
   "outputs": [
    {
     "name": "stdout",
     "output_type": "stream",
     "text": [
      "асимптотический 95% доверительный интервал для отношения вероятностей 0.6513522531798865 1.3444352946574951\n"
     ]
    }
   ],
   "source": [
    "SE_log=np.sqrt(1/mat[0,1]-1/(mat[0,0]+mat[0,1])+1/mat[1,1]-1/(mat[1,0]+mat[1,1]))\n",
    "left=r*np.exp(-1.96*SE_log)\n",
    "right=r*np.exp(1.96*SE_log)\n",
    "print('асимптотический 95% доверительный интервал для отношения вероятностей',left,right)"
   ]
  },
  {
   "cell_type": "code",
   "execution_count": 283,
   "metadata": {},
   "outputs": [],
   "source": [
    "# в)\n",
    "X_glas_boot=get_bootstrap_sample(X_glas,10**4)\n",
    "X_glas_boot=np.mean(X_glas_boot,axis=0)\n",
    "X_soglas_boot=get_bootstrap_sample(X_soglas,10**4)\n",
    "X_soglas_boot=np.mean(X_soglas_boot,axis=0)"
   ]
  },
  {
   "cell_type": "code",
   "execution_count": 288,
   "metadata": {},
   "outputs": [
    {
     "data": {
      "text/plain": [
       "(0.4610687022900763, 1.6415879017013237)"
      ]
     },
     "execution_count": 288,
     "metadata": {},
     "output_type": "execute_result"
    }
   ],
   "source": [
    "#доверительный интервал наивного бутстрапа\n",
    "stat_intervals(X_glas_boot*(1-X_soglas_boot)/((1-X_glas_boot)*X_soglas_boot),0.05)"
   ]
  },
  {
   "cell_type": "code",
   "execution_count": 299,
   "metadata": {},
   "outputs": [
    {
     "name": "stdout",
     "output_type": "stream",
     "text": [
      "755\n"
     ]
    }
   ],
   "source": [
    "# без оптимизации ищем близкое значение по сетке\n",
    "l=np.linspace(0.6,0.75,1000)\n",
    "answer=np.zeros(len(l))\n",
    "for j in range(len(l)):\n",
    "    answer[j]=np.abs(stat_intervals(X_glas_boot*(1-X_soglas_boot)/((1-X_glas_boot)*X_soglas_boot),l[j])[1]-1)\n",
    "print(np.argmin(answer))"
   ]
  },
  {
   "cell_type": "code",
   "execution_count": 300,
   "metadata": {},
   "outputs": [
    {
     "data": {
      "text/plain": [
       "(0.794946038431166, 1.0000105468802774)"
      ]
     },
     "execution_count": 300,
     "metadata": {},
     "output_type": "execute_result"
    }
   ],
   "source": [
    "# доверительный интервал, который касается крайнего значения в 1\n",
    "stat_intervals(X_glas_boot*(1-X_soglas_boot)/((1-X_glas_boot)*X_soglas_boot),l[755])"
   ]
  },
  {
   "cell_type": "code",
   "execution_count": 301,
   "metadata": {},
   "outputs": [
    {
     "name": "stdout",
     "output_type": "stream",
     "text": [
      "pvalue:  0.7133633633633634\n"
     ]
    }
   ],
   "source": [
    "print('pvalue: ',l[755])"
   ]
  },
  {
   "cell_type": "markdown",
   "metadata": {},
   "source": [
    "### Вывод\n",
    "На $5\\%$ уровне значимости гипотеза о том, что отношение шансов хорошо написать экзамен 'несогласных' к 'согласным' равно единице не отвергается. Pvalue полученно, с помощью наивного бутстрапа равно $0.7133$"
   ]
  },
  {
   "cell_type": "markdown",
   "metadata": {},
   "source": [
    "# Задача 6"
   ]
  },
  {
   "cell_type": "code",
   "execution_count": 250,
   "metadata": {},
   "outputs": [
    {
     "data": {
      "text/html": [
       "<div>\n",
       "<style scoped>\n",
       "    .dataframe tbody tr th:only-of-type {\n",
       "        vertical-align: middle;\n",
       "    }\n",
       "\n",
       "    .dataframe tbody tr th {\n",
       "        vertical-align: top;\n",
       "    }\n",
       "\n",
       "    .dataframe thead th {\n",
       "        text-align: right;\n",
       "    }\n",
       "</style>\n",
       "<table border=\"1\" class=\"dataframe\">\n",
       "  <thead>\n",
       "    <tr style=\"text-align: right;\">\n",
       "      <th></th>\n",
       "      <th>lastnames</th>\n",
       "      <th>result</th>\n",
       "      <th>group</th>\n",
       "      <th>len</th>\n",
       "    </tr>\n",
       "  </thead>\n",
       "  <tbody>\n",
       "    <tr>\n",
       "      <th>0</th>\n",
       "      <td>Ролдугина</td>\n",
       "      <td>0.0</td>\n",
       "      <td>0</td>\n",
       "      <td>9</td>\n",
       "    </tr>\n",
       "    <tr>\n",
       "      <th>1</th>\n",
       "      <td>Сафина</td>\n",
       "      <td>19.0</td>\n",
       "      <td>0</td>\n",
       "      <td>6</td>\n",
       "    </tr>\n",
       "    <tr>\n",
       "      <th>2</th>\n",
       "      <td>Сидоров</td>\n",
       "      <td>26.0</td>\n",
       "      <td>0</td>\n",
       "      <td>7</td>\n",
       "    </tr>\n",
       "    <tr>\n",
       "      <th>3</th>\n",
       "      <td>Солоухин</td>\n",
       "      <td>21.0</td>\n",
       "      <td>0</td>\n",
       "      <td>8</td>\n",
       "    </tr>\n",
       "    <tr>\n",
       "      <th>4</th>\n",
       "      <td>Старощук</td>\n",
       "      <td>22.0</td>\n",
       "      <td>0</td>\n",
       "      <td>8</td>\n",
       "    </tr>\n",
       "    <tr>\n",
       "      <th>...</th>\n",
       "      <td>...</td>\n",
       "      <td>...</td>\n",
       "      <td>...</td>\n",
       "      <td>...</td>\n",
       "    </tr>\n",
       "    <tr>\n",
       "      <th>326</th>\n",
       "      <td>Сенников</td>\n",
       "      <td>19.0</td>\n",
       "      <td>0</td>\n",
       "      <td>8</td>\n",
       "    </tr>\n",
       "    <tr>\n",
       "      <th>327</th>\n",
       "      <td>Ся</td>\n",
       "      <td>0.0</td>\n",
       "      <td>0</td>\n",
       "      <td>2</td>\n",
       "    </tr>\n",
       "    <tr>\n",
       "      <th>328</th>\n",
       "      <td>Сятова</td>\n",
       "      <td>0.0</td>\n",
       "      <td>0</td>\n",
       "      <td>6</td>\n",
       "    </tr>\n",
       "    <tr>\n",
       "      <th>329</th>\n",
       "      <td>Темиркулов</td>\n",
       "      <td>0.0</td>\n",
       "      <td>0</td>\n",
       "      <td>10</td>\n",
       "    </tr>\n",
       "    <tr>\n",
       "      <th>330</th>\n",
       "      <td>Эшмеев</td>\n",
       "      <td>16.0</td>\n",
       "      <td>1</td>\n",
       "      <td>6</td>\n",
       "    </tr>\n",
       "  </tbody>\n",
       "</table>\n",
       "<p>331 rows × 4 columns</p>\n",
       "</div>"
      ],
      "text/plain": [
       "      lastnames  result group  len\n",
       "0     Ролдугина     0.0     0    9\n",
       "1        Сафина    19.0     0    6\n",
       "2       Сидоров    26.0     0    7\n",
       "3      Солоухин    21.0     0    8\n",
       "4      Старощук    22.0     0    8\n",
       "..          ...     ...   ...  ...\n",
       "326    Сенников    19.0     0    8\n",
       "327          Ся     0.0     0    2\n",
       "328      Сятова     0.0     0    6\n",
       "329  Темиркулов     0.0     0   10\n",
       "330      Эшмеев    16.0     1    6\n",
       "\n",
       "[331 rows x 4 columns]"
      ]
     },
     "execution_count": 250,
     "metadata": {},
     "output_type": "execute_result"
    }
   ],
   "source": [
    "df"
   ]
  },
  {
   "cell_type": "markdown",
   "metadata": {},
   "source": [
    "### Оценка методом моментов\n",
    "У нас есть $Y_i$ и $X_i$ и мы хотим оценить $Y_i=\\beta X_i+e_i$, для этого нужно использовать GMM с некоторой функцией $g$, то есть $e_i=Y_i-\\beta X_i$ и мы хотим выбрать некоторую функцию $g$ и решить задачу $\\mathbb{E}(g(e)) \\rightarrow min$\n",
    "\n",
    "Можно, например выбрать $g(x)=x^2$, то есть минимизировать второй момент отклонений, в этом случае задача решается следующим образом, заменяя на выборочный второй момент:\n",
    "\n",
    "$$\\sum_{i=1}^n (y_i-\\beta x_i)^2 \\rightarrow min$$\n",
    "\n",
    "Возьмем производную по целевой переменной (задача выпуклая вниз, по этому решение будет глобальным минимум)\n",
    "\n",
    "$$\\sum_{i=1}^n -2x_i(y_i-\\beta x_i)=0 \\rightarrow \\hat{\\beta}=\\frac{\\bar{xy}}{\\bar{x^2}}$$"
   ]
  },
  {
   "cell_type": "code",
   "execution_count": 253,
   "metadata": {},
   "outputs": [
    {
     "name": "stdout",
     "output_type": "stream",
     "text": [
      "Оценка b с помощью второго момента: 1.9654066118008091\n"
     ]
    }
   ],
   "source": [
    "# оценка параметра моментом\n",
    "print('Оценка b с помощью второго момента:',np.mean(Y*X)/np.mean(X**2))"
   ]
  },
  {
   "cell_type": "code",
   "execution_count": 252,
   "metadata": {},
   "outputs": [],
   "source": [
    "# проверим, что это согласуется с оценокй линейной регрессии\n",
    "from sklearn.linear_model import LinearRegression"
   ]
  },
  {
   "cell_type": "code",
   "execution_count": 249,
   "metadata": {},
   "outputs": [
    {
     "name": "stdout",
     "output_type": "stream",
     "text": [
      "[1.96540661]\n"
     ]
    }
   ],
   "source": [
    "lin_reg=LinearRegression(fit_intercept=False)\n",
    "lin_reg.fit(X,Y)\n",
    "print(lin_reg.coef_[0])\n",
    "# как видно оценка сходится с точной формулой"
   ]
  },
  {
   "cell_type": "code",
   "execution_count": 255,
   "metadata": {},
   "outputs": [
    {
     "name": "stdout",
     "output_type": "stream",
     "text": [
      "Выборочная корреляция:  0.025393124976339342\n"
     ]
    }
   ],
   "source": [
    "x=X[:,0]\n",
    "y=Y[:,0]\n",
    "print('Выборочная корреляция: ',np.corrcoef(x,y)[0][1])"
   ]
  },
  {
   "cell_type": "code",
   "execution_count": 257,
   "metadata": {},
   "outputs": [
    {
     "data": {
      "text/plain": [
       "Text(0, 0.5, 'Оценка')"
      ]
     },
     "execution_count": 257,
     "metadata": {},
     "output_type": "execute_result"
    },
    {
     "data": {
      "image/png": "[encoded data removed]",
      "text/plain": [
       "<Figure size 576x288 with 1 Axes>"
      ]
     },
     "metadata": {},
     "output_type": "display_data"
    }
   ],
   "source": [
    "p=plt.scatter(x,y)\n",
    "plt.title(\"Зависимость оценки от количества букв в фамилии\")\n",
    "plt.xlabel(\"Количество букв в фимилии\")\n",
    "plt.ylabel(\"Оценка\")"
   ]
  },
  {
   "cell_type": "code",
   "execution_count": 258,
   "metadata": {},
   "outputs": [],
   "source": [
    "# б)\n",
    "def correlaction(x, y, axis):\n",
    "    cov=np.mean( (x-np.mean(x))*(y-np.mean(y)) ,axis=axis)\n",
    "    corr=cov/(np.std(x,axis=axis)*np.std(y,axis=axis))\n",
    "    return corr"
   ]
  },
  {
   "cell_type": "code",
   "execution_count": 263,
   "metadata": {},
   "outputs": [
    {
     "data": {
      "text/plain": [
       "PermutationTestResult(statistic=0.025393124976339342, pvalue=0.6281371862813718, null_distribution=array([ 0.10770335, -0.00846994, -0.02018168, ...,  0.04280496,\n",
       "       -0.05896028,  0.02222631]))"
      ]
     },
     "execution_count": 263,
     "metadata": {},
     "output_type": "execute_result"
    }
   ],
   "source": [
    "sts.permutation_test((x, y), correlaction, vectorized=True,n_resamples=10**4, alternative='two-sided')"
   ]
  },
  {
   "cell_type": "markdown",
   "metadata": {},
   "source": [
    "### Вывод:\n",
    "как видим pvalue $=0.628$ при тестировании гипотезы о том, что корреляция равна нулю, а значит гипотеза о равенстве корреляции не отвергается на всех разумных уровнях значимости."
   ]
  },
  {
   "cell_type": "markdown",
   "metadata": {},
   "source": [
    "# Задача 7\n",
    "\n",
    "Задача номер 1 из дз по теории вероятности:"
   ]
  },
  {
   "cell_type": "markdown",
   "metadata": {},
   "source": [
    "<a href=\"https://imgbb.com/\"><img src=\"https://i.ibb.co/zHZYKX4/1-gpt.jpg\" alt=\"1-gpt\" border=\"0\" /></a>\n",
    "<!-- <a href=\"https://ibb.co/sJqGLKV\"><img src=\"https://i.ibb.co/sJqGLKV/1-gpt.jpg\" alt=\"1-gpt\" border=\"0\" /></a> -->"
   ]
  },
  {
   "cell_type": "markdown",
   "metadata": {},
   "source": [
    "<a href=\"https://imgbb.com/\"><img src=\"https://i.ibb.co/HVSPQYk/2-gpt.jpg\" alt=\"2-gpt\" border=\"0\" /></a>"
   ]
  },
  {
   "cell_type": "markdown",
   "metadata": {},
   "source": [
    "<a href=\"https://imgbb.com/\"><img src=\"https://i.ibb.co/Yd2zg58/3-gpt.jpg\" alt=\"3-gpt\" border=\"0\" /></a>"
   ]
  },
  {
   "cell_type": "markdown",
   "metadata": {},
   "source": [
    "GPT проигнорировал информацию, что распределение внутри круга, а не просто на прямой и выдал неверный ответ, попытаемся еще раз ему объяснить"
   ]
  },
  {
   "cell_type": "markdown",
   "metadata": {},
   "source": [
    "<a href=\"https://imgbb.com/\"><img src=\"https://i.ibb.co/X2dR66v/4-gpt.jpg\" alt=\"4-gpt\" border=\"0\" /></a>"
   ]
  },
  {
   "cell_type": "markdown",
   "metadata": {},
   "source": [
    "<a href=\"https://imgbb.com/\"><img src=\"https://i.ibb.co/DtftkXf/5-gpt.jpg\" alt=\"5-gpt\" border=\"0\" /></a>"
   ]
  },
  {
   "cell_type": "markdown",
   "metadata": {},
   "source": [
    "GPT понял, что распределение внутри круга, но применил довольно странные формулы и получил неверные ответы, подскажем ему, что сначала нужно посчитать функцию плотности расстояния до центра"
   ]
  },
  {
   "cell_type": "markdown",
   "metadata": {},
   "source": [
    "<a href=\"https://imgbb.com/\"><img src=\"https://i.ibb.co/zFzTHCK/6-gpt.jpg\" alt=\"6-gpt\" border=\"0\" /></a>"
   ]
  },
  {
   "cell_type": "markdown",
   "metadata": {},
   "source": [
    "<a href=\"https://imgbb.com/\"><img src=\"https://i.ibb.co/hBKk7rV/7-gpt.jpg\" alt=\"7-gpt\" border=\"0\" /></a>"
   ]
  },
  {
   "cell_type": "markdown",
   "metadata": {},
   "source": [
    "Функция плотности посчитана верно и осталось технически досчитать математическое ожиание и дисперсию, с которыми он легко справил!"
   ]
  },
  {
   "cell_type": "markdown",
   "metadata": {},
   "source": [
    "<a href=\"https://imgbb.com/\"><img src=\"https://i.ibb.co/17BHfpr/8-gpt.jpg\" alt=\"8-gpt\" border=\"0\" /></a>"
   ]
  },
  {
   "cell_type": "markdown",
   "metadata": {},
   "source": [
    "<a href=\"https://imgbb.com/\"><img src=\"https://i.ibb.co/BVP67fD/9-gpt.jpg\" alt=\"9-gpt\" border=\"0\" /></a>"
   ]
  },
  {
   "cell_type": "markdown",
   "metadata": {},
   "source": [
    "<a href=\"https://imgbb.com/\"><img src=\"https://i.ibb.co/7SQWqN7/10-gpt.jpg\" alt=\"10-gpt\" border=\"0\" /></a>"
   ]
  },
  {
   "cell_type": "markdown",
   "metadata": {},
   "source": [
    "# Задача 8\n",
    "\n",
    "Курс по прикладной статистике от csc:\n",
    "https://www.youtube.com/playlist?list=PLlb7e2G7aSpRIiB5S5ld-3nxxVAH5cyAc\n",
    "\n",
    "С чем помог разобраться\n",
    "1. Помог разобраться с дельта методом в построении доверительных интервалов\n",
    "2. Еще показан интересный, но очень громоздкий метод улучшения проблемы несимметричности распредления в бутстрэповской выборке, такой как BCa интервал. \n",
    "3. Также очень познавательная леция-11 про подвохи при проверке гипотиз, очень полезно было послее ее прослушивания думать над каждым полученным результатом, согласуется ли он с логикой и что могло пойти не так в примененном методе. Одна из проблем продемонстрирована в задаче 3, где не всегда $95\\%$ доверительный интервал означает, что уровень значимости в реальности $5\\%$"
   ]
  }
 ],
 "metadata": {
  "kernelspec": {
   "display_name": "Python 3",
   "language": "python",
   "name": "python3"
  },
  "language_info": {
   "codemirror_mode": {
    "name": "ipython",
    "version": 3
   },
   "file_extension": ".py",
   "mimetype": "text/x-python",
   "name": "python",
   "nbconvert_exporter": "python",
   "pygments_lexer": "ipython3",
   "version": "3.8.5"
  }
 },
 "nbformat": 4,
 "nbformat_minor": 4
}
